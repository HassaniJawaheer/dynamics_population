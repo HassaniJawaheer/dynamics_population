{
 "cells": [
  {
   "cell_type": "markdown",
   "id": "28802729-dd28-43f8-9039-f1a3121de0fa",
   "metadata": {},
   "source": [
    "## Introduction à l’Équation de Fisher-KPP et aux Systèmes de Réaction-Diffusion\n",
    "\n",
    "### 1. Système de réaction-diffusion\n",
    "Les systèmes de réaction-diffusion sont des modèles mathématiques utilisés pour décrire des phénomènes où une réaction locale est couplée à un terme de diffusion. En chimie, cela correspond souvent à des réactions chimiques où les substances se transforment les unes dans les autres et se diffusent dans l'espace.\n",
    "\n",
    "Mathématiquement, un système de réaction-diffusion peut être représenté par une équation aux dérivées partielles (EDP) semi-linéaire parabolique :\n",
    "$$\n",
    "\\partial_t \\mathbf{q} = \\mathbf{D} \\nabla^2 \\mathbf{q} + \\mathbf{R}(\\mathbf{q})\n",
    "$$\n",
    "où $\\mathbf{q}(x, t)$ est la fonction vecteur inconnue, $\\mathbf{D}$ est une matrice de coefficients de diffusion, et $\\mathbf{R}$ représente les réactions locales. Ces systèmes peuvent produire des comportements complexes tels que des ondes progressives ou des motifs auto-organisés.\n",
    "\n",
    "### 2. Introduction à l’équation de Fisher-KPP\n",
    "L'équation de Fisher-KPP, également connue sous le nom d'équation de Fisher-Kolmogorov-Petrovsky-Piskunov, est un cas particulier de système de réaction-diffusion. Elle porte le nom d'Andrey Kolmogorov, Ivan Petrovsky, Nikolai Piskunov et Ronald Fisher, et est utilisée pour modéliser la propagation de phénomènes comme l'expansion d'un allèle avantageux dans une population.\n",
    "\n",
    "### 3. Détails sur l’équation de Fisher-KPP\n",
    "L'équation de Fisher-KPP se présente sous la forme suivante :\n",
    "$$\n",
    "\\partial_t u = D \\nabla^2 u + ru(1 - u)\n",
    "$$\n",
    "où $u(x, t)$ représente la densité de population, $D$ est le coefficient de diffusion, et $r$ est le taux de croissance.\n",
    "\n",
    "Cette équation admet des solutions en ondes progressives, décrivant le passage de l'état $u = 0$ (population nulle) à $u = 1$ (population stable). Pour une vitesse d'onde $c \\geq 2\\sqrt{rD}$, une solution en forme d'onde progressive existe :\n",
    "$$\n",
    "u(x, t) = v(x \\pm ct) \\equiv v(z)\n",
    "$$\n",
    "où $v$ est une fonction croissante satisfaisant $\\lim_{{z \\to -\\infty}} v(z) = 0$ et $\\lim_{{z \\to \\infty}} v(z) = 1$.\n",
    "\n",
    "Les solutions d'onde progressive sont stables vis-à-vis des perturbations proches, mais peuvent être modifiées par des perturbations éloignées. De plus, la vitesse d'onde minimale permet de déterminer si une solution d'onde progressive existe ou non."
   ]
  },
  {
   "cell_type": "markdown",
   "id": "8e613d94-7413-444d-8eee-6da9f3613603",
   "metadata": {},
   "source": [
    "## Discrétisation du système"
   ]
  },
  {
   "cell_type": "markdown",
   "id": "38090864-60a8-46aa-a7a7-b719d08bc7fe",
   "metadata": {},
   "source": [
    "Le modèle de réaction-diffusion de Fisher-KPP, appliqué à la dispersion spatiale d'une population avec une croissance logistique, est décrit par l'équation suivante :\n",
    "$$ \n",
    "\\frac{\\partial N}{\\partial t} = D \\frac{\\partial^2 N}{\\partial x^2} + rN\\left(1 - \\frac{N}{K}\\right) \n",
    "$$\n",
    "où :\n",
    "- \\( N \\) représente la densité de population,\n",
    "- \\( D \\) est le coefficient de diffusion,\n",
    "- \\( r \\) est le taux de croissance intrinsèque,\n",
    "- \\( K \\) est la capacité de charge ou le seuil de population maximale supportable."
   ]
  },
  {
   "cell_type": "markdown",
   "id": "72c75585-579e-45ca-a08f-6faf67c8926d",
   "metadata": {},
   "source": [
    "1. **Discrétisation temporelle** :\n",
    "   - Dérivée en temps : \n",
    "   $$\n",
    "   \\frac{\\partial N}{\\partial t} \\approx \\frac{N_i^{m+1} - N_i^m}{\\Delta t}\n",
    "   $$\n",
    "\n",
    "2. **Discrétisation spatiale (dérivée seconde)** :\n",
    "   - Dérivée seconde spatiale :\n",
    "   $$\n",
    "   \\frac{\\partial^2 N}{\\partial x^2} \\approx \\frac{N_{i+1}^{m+1} - 2 N_i^m + N_{i-1}^{m+1}}{\\Delta x^2}\n",
    "   $$\n",
    "\n",
    "3. **Équation discrétisée** :\n",
    "   L'équation complète, après la discrétisation, devient :\n",
    "\n",
    "   $$\n",
    "   \\frac{N_i^{m+1} - N_i^m}{\\Delta t} = D \\frac{N_{i+1}^{m+1} - 2 N_i^m + N_{i-1}^{m+1}}{\\Delta x^2} + r N_i^{m+1} \\left(1 - \\frac{N_i^m}{K}\\right)\n",
    "   $$\n",
    "\n",
    "   Ensuite,\n",
    "\n",
    "   $$\n",
    "   N_i^{m+1} = p \\left(N_{i+1}^{m+1} - 2 N_i^m + N_{i-1}^{m+1}\\right) + qN_i^{m+1} \\left(K - N_i^m\\right) + N_i^m\n",
    "   $$\n",
    "\n",
    "Où :\n",
    "- $p = \\frac{D \\Delta t}{\\Delta x^2}$\n",
    "- $q = r\\frac{\\Delta t}{K}$\n",
    "\n",
    "On a alors l'équation suivante :\n",
    "\n",
    "$$\n",
    "a_i N_{i-1}^{m+1} + d_i N_i^{m+1} + c_i N_{i+1}^{m+1} = b_i\n",
    "$$\n",
    "\n",
    "Où :\n",
    "- $a_i = c_i = -p$\n",
    "- $d_i = 1 - q (K - N_i^m)$\n",
    "- $b_i = N_i^m(1 - 2p)$\n",
    "\n",
    "### Système d'équations matriciel :\n",
    "Cette équation nous donne le système suivant sous forme tridiagonale (matrice $A$) :\n",
    "\n",
    "$$\n",
    "A \\mathbf{N}^{m+1} = \\mathbf{b}\n",
    "$$\n",
    "\n",
    "Où :\n",
    "- $A$ est une matrice tridiagonale avec les coefficients $-p$ et les $B_i$ sur la diagonale,\n",
    "- $\\mathbf{N}^{m+1}$ est le vecteur des inconnues à l'instant futur,\n",
    "- $\\mathbf{b}$ contient les termes du côté droit à l'instant $m$.\n",
    "\n",
    "### Matrice tridiagonale $A$ :\n",
    "Elle est définie de cette façon :\n",
    "\n",
    "$$\n",
    "A = \\begin{pmatrix}\n",
    "d_1 & -p & 0 & \\cdots & 0 \\\\\n",
    "-p & d_2 & -p & \\cdots & 0 \\\\\n",
    "0 & -p & d_3 & \\cdots & 0 \\\\\n",
    "\\vdots & \\vdots & \\vdots & \\ddots & \\vdots \\\\\n",
    "0 & 0 & 0 & \\cdots & d_I\n",
    "\\end{pmatrix}\n",
    "$$\n",
    "\n",
    "Avec :\n",
    "$$ \\mathbf{b} = (1 - 2p) \\left(N_1^m, N_2^m, \\dots, N_I^m \\right) $$\n",
    "$$ \\mathbf{X} = \\left(N_1^{m+1}, N_2^{m+1}, \\dots, N_I^{m+1} \\right) $$\n",
    " \n",
    " Ainsi, pour modéliser le système avec des différences finies et résoudre l'équation, on avances itérativement dans le temps en résolvant à chaque pas de temps le système $A \\mathbf{N}^{n+1} = \\mathbf{b}$, où $\\mathbf{b}$ est fonction des valeurs à l'instant $m$."
   ]
  },
  {
   "cell_type": "markdown",
   "id": "72265a00-fa8b-46fb-bc46-8c39711a134e",
   "metadata": {},
   "source": [
    "### Condition aux limites"
   ]
  },
  {
   "cell_type": "markdown",
   "id": "e6ce34fd-1ea2-4e4e-96b5-3307f4db2800",
   "metadata": {},
   "source": [
    "Nous étudierons 2 types de conditions aux limites:\n",
    "- On suppose que la popultation initiale est constante dans tout l'espace. On definie $N_1^1 = N_2^1 = ... =N_I^1 = n_0$ où $n_0$ est une valeurs initiale de population. C'est à dire que la population est uniformément repartie dans l'espace à l'instant 1.\n",
    "- On suppose que la population initiale est concentrée au centre et décroissant vers les bords. Pour cela, nous utiliserons une gaussienne. Il s'agit d'une répartition non homogène de la population initiale. Ainsi, on définit pour tous les espaces $i$:\n",
    "$$ N_i^1 = n_o \\times \\exp\\left(-\\frac{(i - i_0)^2}{2 \\sigma^2}\\right)$$\n",
    "Où $i_0$ est le centre de la population et $\\sigma$ contrôle l'établissement autour de ce centre."
   ]
  },
  {
   "cell_type": "markdown",
   "id": "b444bd93-fc17-4d49-9375-4f5f884dfddb",
   "metadata": {},
   "source": [
    "## Modélisation "
   ]
  },
  {
   "cell_type": "markdown",
   "id": "1679283d-bda1-4643-8d0e-0155822a82cf",
   "metadata": {},
   "source": [
    "### Importer les bibliothèques nécessaires"
   ]
  },
  {
   "cell_type": "code",
   "execution_count": 12,
   "id": "099120bf-de88-41b7-9fa4-7a1e22930415",
   "metadata": {},
   "outputs": [],
   "source": [
    "import numpy as np\n",
    "import matplotlib.pyplot as plt\n",
    "from scipy.sparse import diags\n",
    "from scipy.sparse.linalg import spsolve  # Pour résoudre les systèmes creux\n",
    "import ipywidgets as widgets\n",
    "from ipywidgets import interact"
   ]
  },
  {
   "cell_type": "code",
   "execution_count": 43,
   "id": "a69fd5f0-9a0d-492c-a4cf-0e0e0a6f23b1",
   "metadata": {},
   "outputs": [],
   "source": [
    "# Fonction qui calcule le paramètre p, dépendant de D, delta_x et delta_t\n",
    "def p(D, delta_x, delta_t):\n",
    "    return D * delta_t / delta_x**2\n",
    "\n",
    "# Fonction qui calcule le paramètre q, dépendant de r, delta_t et K\n",
    "def q(r, delta_t, K):\n",
    "    return r * delta_t / K\n",
    "\n",
    "# Fonction qui retourne le vecteur a (éléments hors-diagonaux inférieurs)\n",
    "def a(I, p_val):\n",
    "    return -p_val * np.ones(I)\n",
    "\n",
    "# Fonction qui retourne le vecteur c (éléments hors-diagonaux supérieurs)\n",
    "def c(I, p_val):\n",
    "    return -p_val * np.ones(I)\n",
    "\n",
    "# Fonction qui retourne le vecteur d (éléments diagonaux)\n",
    "def d(I, r, K, delta_t, N):\n",
    "    q_val = q(r, delta_t, K)  # Calcul du paramètre q\n",
    "    return np.ones(I) - q_val * (K * np.ones(I) - N)  # Calcul des éléments diagonaux du système\n",
    "\n",
    "# Fonction qui retourne le vecteur b (côté droit de l'équation)\n",
    "def b(D, delta_x, delta_t, N):\n",
    "    p_val = p(D, delta_x, delta_t)  # Calcul du paramètre p\n",
    "    return (1 - 2 * p_val) * N  # Calcul du terme source à droite du système\n",
    "\n",
    "# Construction de la matrice tridiagonale\n",
    "def matrix(I, p_val, d_vect):\n",
    "    \"\"\"\n",
    "    Construit la matrice tridiagonale A avec :\n",
    "    - d_vect sur la diagonale principale\n",
    "    - p_val sur les diagonales supérieures et inférieures\n",
    "    \"\"\"\n",
    "    off_diag = -p_val * np.ones(I - 1)  # Valeurs sur les diagonales supérieures et inférieures\n",
    "    A = diags([off_diag, d_vect, off_diag], offsets=[-1, 0, 1], format='csr')  # Matrice sparse tridiagonale\n",
    "    return A\n",
    "\n",
    "# Fonction qui résout le système linéaire A * N_next = b\n",
    "def solve_system(A, b):\n",
    "    \"\"\"\n",
    "    Résout le système linéaire A * N_next = b\n",
    "    \"\"\"\n",
    "    N_next = spsolve(A, b)  # Utilisation de spsolve pour les matrices creuses\n",
    "    return N_next\n",
    "\n",
    "# Modèle Fisher-KPP : Simulation de la population dans le temps\n",
    "def fisher_kpp_model(N_init, delta_t, delta_x, I, M, r, D, K):\n",
    "    \"\"\"\n",
    "    Fonction principale qui simule le modèle de Fisher-KPP.\n",
    "    Elle calcule l'évolution de la population dans le temps.\n",
    "    \"\"\"\n",
    "    # Initialisation de la liste des solutions avec l'état initial\n",
    "    S = []\n",
    "    S.append(N_init.copy())  # Ajoute la population initiale à la liste des solutions\n",
    "    N = N_init.copy()  # Vecteur de population courant\n",
    "\n",
    "    # Boucle temporelle pour faire évoluer la population\n",
    "    for i in np.arange(M):\n",
    "        # Calcul du paramètre p\n",
    "        p_val = p(D, delta_x, delta_t)\n",
    "\n",
    "        # Calcul du vecteur diagonal d\n",
    "        diag = d(I, r, K, delta_t, N)\n",
    "\n",
    "        # Construction de la matrice A\n",
    "        A = matrix(I, p_val, diag)\n",
    "\n",
    "        # Calcul du vecteur b (côté droit de l'équation)\n",
    "        b_vect = b(D, delta_x, delta_t, N)\n",
    "\n",
    "        # Résolution du système linéaire pour obtenir N à l'instant suivant\n",
    "        N_next = solve_system(A, b_vect)\n",
    "        # Correction des valeurs négatives : remplacer les valeurs < 0 par 0\n",
    "        N_next[N_next < 0] = 0\n",
    "        \n",
    "        # Ajout de la solution à la liste des solutions\n",
    "        S.append(N_next.copy())\n",
    "\n",
    "        # Mise à jour de N pour la prochaine itération\n",
    "        N = N_next\n",
    "\n",
    "    return S\n",
    "# Fonction interactive d'affichage avec un paramètre booléen pour choisir l'initialisation (homogène ou gaussienne)\n",
    "def affiche_sol_interactif(N_0=1000, M=10, I=10, K=10000, r=0.4, delta_x=0.5, delta_t=1, D=0.8, init_gauss=False, save=False):\n",
    "    \"\"\"\n",
    "    Affiche les courbes de la solution S en fonction des paramètres interactifs.\n",
    "    Si init_gauss est True, la population initiale sera gaussienne.\n",
    "    Sinon, elle sera homogène.\n",
    "    \"\"\"\n",
    "    \n",
    "    # Initialisation de la population\n",
    "    if init_gauss:\n",
    "        center = I * delta_x / 2  # Centre de la gaussienne\n",
    "        spread = I * delta_x / 10  # Écart-type de la gaussienne\n",
    "        x = np.linspace(0, I * delta_x, I)\n",
    "        N_init = N_0 * np.exp(-((x - center) ** 2) / (2 * spread ** 2))\n",
    "    else:\n",
    "        N_init = N_0 * np.ones(I)  # Population homogène\n",
    "    \n",
    "    # Résolution du modèle Fisher-KPP\n",
    "    S = fisher_kpp_model(N_init, delta_t, delta_x, I, M, r, D, K)\n",
    "    \n",
    "    # Affichage des résultats\n",
    "    plt.figure(figsize=(10, 6))\n",
    "    x_values = np.linspace(0, I * delta_x, I)  # Calcul des valeurs de x en fonction de delta_x\n",
    "    for m in range(M + 1):\n",
    "        plt.plot(x_values, S[m], label=f'T = {m * delta_t}', linewidth=2)\n",
    "    \n",
    "    plt.title(f\"Évolution de la population - N0={N_0}, K={K}, r={r}, D={D}, Gaussienne={init_gauss}\")\n",
    "    plt.xlabel(\"Espace (x)\")\n",
    "    plt.ylabel(\"Population\")\n",
    "    plt.legend(loc=\"upper right\")\n",
    "     \n",
    "    # Enregistrement du graphe optionnel\n",
    "    if save:\n",
    "        plt.savefig('modele_diffusion_fisher_kpp.png', dpi=300)\n",
    "        print(\"Graphe enregistré sous le nom 'modele_diffusion_fisher_kpp.png'\")\n",
    "\n",
    "    plt.show()"
   ]
  },
  {
   "cell_type": "code",
   "execution_count": 44,
   "id": "fbb80431-31e6-4cab-9db4-859d0c652401",
   "metadata": {},
   "outputs": [
    {
     "data": {
      "application/vnd.jupyter.widget-view+json": {
       "model_id": "90b791aabb1d4095bd39b5880d9d5eec",
       "version_major": 2,
       "version_minor": 0
      },
      "text/plain": [
       "interactive(children=(FloatSlider(value=1000.0, description='N_0', max=2000.0, min=500.0, step=100.0), IntSlid…"
      ]
     },
     "metadata": {},
     "output_type": "display_data"
    },
    {
     "data": {
      "text/plain": [
       "<function __main__.affiche_sol_interactif(N_0=1000, M=10, I=10, K=10000, r=0.4, delta_x=0.5, delta_t=1, D=0.8, init_gauss=False, save=False)>"
      ]
     },
     "execution_count": 44,
     "metadata": {},
     "output_type": "execute_result"
    }
   ],
   "source": [
    "# Widgets interactifs\n",
    "interact(\n",
    "    affiche_sol_interactif,\n",
    "    N_0=widgets.FloatSlider(min=500, max=2000, step=100, value=1000, description='N_0'),\n",
    "    M=widgets.IntSlider(min=1, max=50, step=1, value=4, description='M'),\n",
    "    I=widgets.IntSlider(min=100, max=1000, step=100, value=10, description='I'),\n",
    "    K=widgets.IntSlider(min=1000, max=10000, step=1000, value=5000, description='K'),\n",
    "    r=widgets.FloatSlider(min=0.1, max=1.0, step=0.1, value=0.4, description='r'),\n",
    "    delta_x=widgets.FloatSlider(min=0.1, max=1.0, step=0.1, value=0.5, description='Δx'),\n",
    "    delta_t=widgets.FloatSlider(min=0.1, max=2.0, step=0.1, value=1.0, description='Δt'),\n",
    "    D=widgets.FloatSlider(min=0.1, max=1.0, step=0.1, value=0.51, description='D'),\n",
    "    init_gauss=widgets.Checkbox(value=False, description='Initialisation Gaussienne'),\n",
    "    save=widgets.Checkbox(value=False, description='Enregistrer le graphe')\n",
    ")"
   ]
  },
  {
   "cell_type": "markdown",
   "id": "6588b551-d5c7-4210-8272-e357a0e0c486",
   "metadata": {},
   "source": [
    "### Condition de stabilité du système"
   ]
  },
  {
   "cell_type": "markdown",
   "id": "e35518e4-f14f-4ace-ab66-a18cb7ff4bca",
   "metadata": {},
   "source": [
    "La condition de stabilité liée à la méthode numérique des différences finies pour résoudre l'équation de réaction-diffusion de Fisher-KPP repose sur le nombre de Courant, parfois appelé nombre de Fourier. Ce paramètre est donné par la relation suivante :\n",
    "$$ p = \\frac{D \\Delta t}{(\\Delta x)^2} $$\n",
    "Pour qu'un schéma explicite soit stable, il est nécessaire que \\( P \\) reste en dessous d'une valeur critique. En général, pour une équation de diffusion, cette valeur critique est 0,5, ce qui implique \\( P \\leq 0,5 \\). Si cette condition n'est pas respectée, des instabilités numériques peuvent se produire, entraînant des oscillations non physiques dans la solution ou même un comportement divergent du système."
   ]
  }
 ],
 "metadata": {
  "kernelspec": {
   "display_name": "Python 3 (ipykernel)",
   "language": "python",
   "name": "python3"
  },
  "language_info": {
   "codemirror_mode": {
    "name": "ipython",
    "version": 3
   },
   "file_extension": ".py",
   "mimetype": "text/x-python",
   "name": "python",
   "nbconvert_exporter": "python",
   "pygments_lexer": "ipython3",
   "version": "3.11.2"
  }
 },
 "nbformat": 4,
 "nbformat_minor": 5
}
